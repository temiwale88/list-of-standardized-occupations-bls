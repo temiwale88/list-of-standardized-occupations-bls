{
 "metadata": {
  "language_info": {
   "codemirror_mode": {
    "name": "ipython",
    "version": 3
   },
   "file_extension": ".py",
   "mimetype": "text/x-python",
   "name": "python",
   "nbconvert_exporter": "python",
   "pygments_lexer": "ipython3",
   "version": "3.8.5"
  },
  "orig_nbformat": 2,
  "kernelspec": {
   "name": "python3",
   "display_name": "Python 3",
   "language": "python"
  }
 },
 "nbformat": 4,
 "nbformat_minor": 2,
 "cells": [
  {
   "source": [
    "#### In this notebook, we will use the [U.S. BUREAU OF LABOR STATISTICS's](https://www.bls.gov/emp/tables/emp-by-detailed-occupation.htm) employment data to map 'occupations' (first employment category), with the second level of employment categories, and eventually their respective employment titles (the final level of the 3-part employment hierarchy).  \n",
    "The final output, *Cleaned_BLS_Employment_Categories.csv*, should be a normalized table with all employment titles mapped to their second and first level occupation categories. "
   ],
   "cell_type": "markdown",
   "metadata": {}
  },
  {
   "cell_type": "code",
   "execution_count": 1,
   "metadata": {},
   "outputs": [],
   "source": [
    "# Importing dependencies\n",
    "import pandas as pd\n",
    "import numpy as np"
   ]
  },
  {
   "cell_type": "code",
   "execution_count": 2,
   "metadata": {},
   "outputs": [
    {
     "output_type": "stream",
     "name": "stdout",
     "text": [
      "                                    Employment_Title Employment_Code  \\\n0                                                NaN             NaN   \n1                                                NaN             NaN   \n2                             Total, all occupations         00-0000   \n3                             Management occupations         11-0000   \n4                                     Top executives         11-1000   \n5                                   Chief executives         11-1011   \n6                    General and operations managers         11-1021   \n7                                        Legislators         11-1031   \n8  Advertising, marketing, promotions, public rel...         11-2000   \n9                Advertising and promotions managers         11-2011   \n\n  Employment_Type  \n0             NaN  \n1             NaN  \n2         Summary  \n3         Summary  \n4         Summary  \n5       Line item  \n6       Line item  \n7       Line item  \n8         Summary  \n9       Line item  \n"
     ]
    }
   ],
   "source": [
    "# Read Data\n",
    "dataset = pd.read_excel('Resources/occupation.xlsx', sheet_name='Table 1.2', skiprows = range(1),\n",
    "                   usecols = \"A:C\")\n",
    "columns = [\"Employment_Title\", \"Employment_Code\", \"Employment_Type\"]\n",
    "dataset.columns = columns                  \n",
    "print(dataset.head(10))"
   ]
  },
  {
   "cell_type": "code",
   "execution_count": 3,
   "metadata": {},
   "outputs": [
    {
     "output_type": "execute_result",
     "data": {
      "text/plain": [
       "                               Employment_Title Employment_Code  \\\n",
       "0                        Total, all occupations         00-0000   \n",
       "1                        Management occupations         11-0000   \n",
       "2                                Top executives         11-1000   \n",
       "3                              Chief executives         11-1011   \n",
       "4               General and operations managers         11-1021   \n",
       "...                                         ...             ...   \n",
       "1043    Pump operators, except wellhead pumpers         53-7072   \n",
       "1044                           Wellhead pumpers         53-7073   \n",
       "1045  Refuse and recyclable material collectors         53-7081   \n",
       "1046          Tank car, truck, and ship loaders         53-7121   \n",
       "1047         Material moving workers, all other         53-7199   \n",
       "\n",
       "     Employment_Type  \n",
       "0            Summary  \n",
       "1            Summary  \n",
       "2            Summary  \n",
       "3          Line item  \n",
       "4          Line item  \n",
       "...              ...  \n",
       "1043       Line item  \n",
       "1044       Line item  \n",
       "1045       Line item  \n",
       "1046       Line item  \n",
       "1047       Line item  \n",
       "\n",
       "[1048 rows x 3 columns]"
      ],
      "text/html": "<div>\n<style scoped>\n    .dataframe tbody tr th:only-of-type {\n        vertical-align: middle;\n    }\n\n    .dataframe tbody tr th {\n        vertical-align: top;\n    }\n\n    .dataframe thead th {\n        text-align: right;\n    }\n</style>\n<table border=\"1\" class=\"dataframe\">\n  <thead>\n    <tr style=\"text-align: right;\">\n      <th></th>\n      <th>Employment_Title</th>\n      <th>Employment_Code</th>\n      <th>Employment_Type</th>\n    </tr>\n  </thead>\n  <tbody>\n    <tr>\n      <th>0</th>\n      <td>Total, all occupations</td>\n      <td>00-0000</td>\n      <td>Summary</td>\n    </tr>\n    <tr>\n      <th>1</th>\n      <td>Management occupations</td>\n      <td>11-0000</td>\n      <td>Summary</td>\n    </tr>\n    <tr>\n      <th>2</th>\n      <td>Top executives</td>\n      <td>11-1000</td>\n      <td>Summary</td>\n    </tr>\n    <tr>\n      <th>3</th>\n      <td>Chief executives</td>\n      <td>11-1011</td>\n      <td>Line item</td>\n    </tr>\n    <tr>\n      <th>4</th>\n      <td>General and operations managers</td>\n      <td>11-1021</td>\n      <td>Line item</td>\n    </tr>\n    <tr>\n      <th>...</th>\n      <td>...</td>\n      <td>...</td>\n      <td>...</td>\n    </tr>\n    <tr>\n      <th>1043</th>\n      <td>Pump operators, except wellhead pumpers</td>\n      <td>53-7072</td>\n      <td>Line item</td>\n    </tr>\n    <tr>\n      <th>1044</th>\n      <td>Wellhead pumpers</td>\n      <td>53-7073</td>\n      <td>Line item</td>\n    </tr>\n    <tr>\n      <th>1045</th>\n      <td>Refuse and recyclable material collectors</td>\n      <td>53-7081</td>\n      <td>Line item</td>\n    </tr>\n    <tr>\n      <th>1046</th>\n      <td>Tank car, truck, and ship loaders</td>\n      <td>53-7121</td>\n      <td>Line item</td>\n    </tr>\n    <tr>\n      <th>1047</th>\n      <td>Material moving workers, all other</td>\n      <td>53-7199</td>\n      <td>Line item</td>\n    </tr>\n  </tbody>\n</table>\n<p>1048 rows × 3 columns</p>\n</div>"
     },
     "metadata": {},
     "execution_count": 3
    }
   ],
   "source": [
    "# Drop all rows where is NULL\n",
    "dataset.dropna(axis=0, how='any', inplace = True) #Visual inspection shows we can drop 'any'\n",
    "dataset = dataset.reset_index(drop=True)\n",
    "dataset"
   ]
  },
  {
   "cell_type": "code",
   "execution_count": 4,
   "metadata": {},
   "outputs": [
    {
     "output_type": "execute_result",
     "data": {
      "text/plain": [
       "Employment_Title    0\n",
       "Employment_Code     0\n",
       "Employment_Type     0\n",
       "dtype: int64"
      ]
     },
     "metadata": {},
     "execution_count": 4
    }
   ],
   "source": [
    "#Checking\n",
    "dataset.isnull().sum()\n",
    "# dataset.isnull()"
   ]
  },
  {
   "cell_type": "code",
   "execution_count": 5,
   "metadata": {},
   "outputs": [
    {
     "output_type": "execute_result",
     "data": {
      "text/plain": [
       "                               Employment_Title Employment_Code  \\\n",
       "0                        Management occupations         11-0000   \n",
       "1                                Top executives         11-1000   \n",
       "2                              Chief executives         11-1011   \n",
       "3               General and operations managers         11-1021   \n",
       "4                                   Legislators         11-1031   \n",
       "...                                         ...             ...   \n",
       "1042    Pump operators, except wellhead pumpers         53-7072   \n",
       "1043                           Wellhead pumpers         53-7073   \n",
       "1044  Refuse and recyclable material collectors         53-7081   \n",
       "1045          Tank car, truck, and ship loaders         53-7121   \n",
       "1046         Material moving workers, all other         53-7199   \n",
       "\n",
       "     Employment_Type  \n",
       "0            Summary  \n",
       "1            Summary  \n",
       "2          Line item  \n",
       "3          Line item  \n",
       "4          Line item  \n",
       "...              ...  \n",
       "1042       Line item  \n",
       "1043       Line item  \n",
       "1044       Line item  \n",
       "1045       Line item  \n",
       "1046       Line item  \n",
       "\n",
       "[1047 rows x 3 columns]"
      ],
      "text/html": "<div>\n<style scoped>\n    .dataframe tbody tr th:only-of-type {\n        vertical-align: middle;\n    }\n\n    .dataframe tbody tr th {\n        vertical-align: top;\n    }\n\n    .dataframe thead th {\n        text-align: right;\n    }\n</style>\n<table border=\"1\" class=\"dataframe\">\n  <thead>\n    <tr style=\"text-align: right;\">\n      <th></th>\n      <th>Employment_Title</th>\n      <th>Employment_Code</th>\n      <th>Employment_Type</th>\n    </tr>\n  </thead>\n  <tbody>\n    <tr>\n      <th>0</th>\n      <td>Management occupations</td>\n      <td>11-0000</td>\n      <td>Summary</td>\n    </tr>\n    <tr>\n      <th>1</th>\n      <td>Top executives</td>\n      <td>11-1000</td>\n      <td>Summary</td>\n    </tr>\n    <tr>\n      <th>2</th>\n      <td>Chief executives</td>\n      <td>11-1011</td>\n      <td>Line item</td>\n    </tr>\n    <tr>\n      <th>3</th>\n      <td>General and operations managers</td>\n      <td>11-1021</td>\n      <td>Line item</td>\n    </tr>\n    <tr>\n      <th>4</th>\n      <td>Legislators</td>\n      <td>11-1031</td>\n      <td>Line item</td>\n    </tr>\n    <tr>\n      <th>...</th>\n      <td>...</td>\n      <td>...</td>\n      <td>...</td>\n    </tr>\n    <tr>\n      <th>1042</th>\n      <td>Pump operators, except wellhead pumpers</td>\n      <td>53-7072</td>\n      <td>Line item</td>\n    </tr>\n    <tr>\n      <th>1043</th>\n      <td>Wellhead pumpers</td>\n      <td>53-7073</td>\n      <td>Line item</td>\n    </tr>\n    <tr>\n      <th>1044</th>\n      <td>Refuse and recyclable material collectors</td>\n      <td>53-7081</td>\n      <td>Line item</td>\n    </tr>\n    <tr>\n      <th>1045</th>\n      <td>Tank car, truck, and ship loaders</td>\n      <td>53-7121</td>\n      <td>Line item</td>\n    </tr>\n    <tr>\n      <th>1046</th>\n      <td>Material moving workers, all other</td>\n      <td>53-7199</td>\n      <td>Line item</td>\n    </tr>\n  </tbody>\n</table>\n<p>1047 rows × 3 columns</p>\n</div>"
     },
     "metadata": {},
     "execution_count": 5
    }
   ],
   "source": [
    "# Exclude 1st row\n",
    "dataset = dataset.iloc[1:len(dataset)+1]\n",
    "dataset = dataset.reset_index(drop=True)\n",
    "dataset"
   ]
  },
  {
   "cell_type": "code",
   "execution_count": 6,
   "metadata": {},
   "outputs": [
    {
     "output_type": "stream",
     "name": "stdout",
     "text": [
      "-\n"
     ]
    },
    {
     "output_type": "execute_result",
     "data": {
      "text/plain": [
       "                               Employment_Title Employment_Code  \\\n",
       "0                        Management occupations         11-0000   \n",
       "1                                Top executives         11-1000   \n",
       "2                              Chief executives         11-1011   \n",
       "3               General and operations managers         11-1021   \n",
       "4                                   Legislators         11-1031   \n",
       "...                                         ...             ...   \n",
       "1042    Pump operators, except wellhead pumpers         53-7072   \n",
       "1043                           Wellhead pumpers         53-7073   \n",
       "1044  Refuse and recyclable material collectors         53-7081   \n",
       "1045          Tank car, truck, and ship loaders         53-7121   \n",
       "1046         Material moving workers, all other         53-7199   \n",
       "\n",
       "     Employment_Type Employment_Code_0 Employment_Code_1  \n",
       "0            Summary                11              0000  \n",
       "1            Summary                11              1000  \n",
       "2          Line item                11              1011  \n",
       "3          Line item                11              1021  \n",
       "4          Line item                11              1031  \n",
       "...              ...               ...               ...  \n",
       "1042       Line item                53              7072  \n",
       "1043       Line item                53              7073  \n",
       "1044       Line item                53              7081  \n",
       "1045       Line item                53              7121  \n",
       "1046       Line item                53              7199  \n",
       "\n",
       "[1047 rows x 5 columns]"
      ],
      "text/html": "<div>\n<style scoped>\n    .dataframe tbody tr th:only-of-type {\n        vertical-align: middle;\n    }\n\n    .dataframe tbody tr th {\n        vertical-align: top;\n    }\n\n    .dataframe thead th {\n        text-align: right;\n    }\n</style>\n<table border=\"1\" class=\"dataframe\">\n  <thead>\n    <tr style=\"text-align: right;\">\n      <th></th>\n      <th>Employment_Title</th>\n      <th>Employment_Code</th>\n      <th>Employment_Type</th>\n      <th>Employment_Code_0</th>\n      <th>Employment_Code_1</th>\n    </tr>\n  </thead>\n  <tbody>\n    <tr>\n      <th>0</th>\n      <td>Management occupations</td>\n      <td>11-0000</td>\n      <td>Summary</td>\n      <td>11</td>\n      <td>0000</td>\n    </tr>\n    <tr>\n      <th>1</th>\n      <td>Top executives</td>\n      <td>11-1000</td>\n      <td>Summary</td>\n      <td>11</td>\n      <td>1000</td>\n    </tr>\n    <tr>\n      <th>2</th>\n      <td>Chief executives</td>\n      <td>11-1011</td>\n      <td>Line item</td>\n      <td>11</td>\n      <td>1011</td>\n    </tr>\n    <tr>\n      <th>3</th>\n      <td>General and operations managers</td>\n      <td>11-1021</td>\n      <td>Line item</td>\n      <td>11</td>\n      <td>1021</td>\n    </tr>\n    <tr>\n      <th>4</th>\n      <td>Legislators</td>\n      <td>11-1031</td>\n      <td>Line item</td>\n      <td>11</td>\n      <td>1031</td>\n    </tr>\n    <tr>\n      <th>...</th>\n      <td>...</td>\n      <td>...</td>\n      <td>...</td>\n      <td>...</td>\n      <td>...</td>\n    </tr>\n    <tr>\n      <th>1042</th>\n      <td>Pump operators, except wellhead pumpers</td>\n      <td>53-7072</td>\n      <td>Line item</td>\n      <td>53</td>\n      <td>7072</td>\n    </tr>\n    <tr>\n      <th>1043</th>\n      <td>Wellhead pumpers</td>\n      <td>53-7073</td>\n      <td>Line item</td>\n      <td>53</td>\n      <td>7073</td>\n    </tr>\n    <tr>\n      <th>1044</th>\n      <td>Refuse and recyclable material collectors</td>\n      <td>53-7081</td>\n      <td>Line item</td>\n      <td>53</td>\n      <td>7081</td>\n    </tr>\n    <tr>\n      <th>1045</th>\n      <td>Tank car, truck, and ship loaders</td>\n      <td>53-7121</td>\n      <td>Line item</td>\n      <td>53</td>\n      <td>7121</td>\n    </tr>\n    <tr>\n      <th>1046</th>\n      <td>Material moving workers, all other</td>\n      <td>53-7199</td>\n      <td>Line item</td>\n      <td>53</td>\n      <td>7199</td>\n    </tr>\n  </tbody>\n</table>\n<p>1047 rows × 5 columns</p>\n</div>"
     },
     "metadata": {},
     "execution_count": 6
    }
   ],
   "source": [
    "# Split Employment_Code column\n",
    "def split_columns(df, split_column, on_char, new_col_1, new_col_2, drop=True):\n",
    "    print((on_char))\n",
    "    new = df[split_column].str.split(on_char, n = 1, expand = True) \n",
    "    \n",
    "    # making separate left-side column using new dataframe \n",
    "    df[new_col_1]= new[0]\n",
    "    \n",
    "    # making separate right-side column using new dataframe \n",
    "    df[new_col_2]= new[1]\n",
    "\n",
    "    # Dropping old Name columns\n",
    "    if drop == True:\n",
    "        df.drop(columns =[split_column], inplace = True)\n",
    "\n",
    "    return df\n",
    "  \n",
    "# return df\n",
    "dataset = split_columns(dataset, \"Employment_Code\", \"-\", \"Employment_Code_0\", \"Employment_Code_1\", drop=False)\n",
    "dataset "
   ]
  },
  {
   "cell_type": "code",
   "execution_count": 7,
   "metadata": {},
   "outputs": [
    {
     "output_type": "execute_result",
     "data": {
      "text/plain": [
       "(22,)"
      ]
     },
     "metadata": {},
     "execution_count": 7
    }
   ],
   "source": [
    "# Get an array of unique (left-most) empl. codes\n",
    "employment_code_array = dataset['Employment_Code_0'].to_numpy()\n",
    "employment_code_array = np.unique(employment_code_array) #get unique names\n",
    "employment_code_array.shape"
   ]
  },
  {
   "cell_type": "code",
   "execution_count": 8,
   "metadata": {},
   "outputs": [],
   "source": [
    "employment_level_1_arr = []\n",
    "employment_level_2_arr = []\n",
    "employment_title_arr = []\n",
    "\n",
    "# Feel free to wrap this into a function\n",
    "# At a high-level: we will map the unique codes from the employment_code_array with the first, second, and third level employment titles in the dataset\n",
    "# This for loop creates arrays of with key-value pairs that we will use to perform mapping / join operations later\n",
    "\n",
    "# Loop through unique set of employment codes\n",
    "for i in range(len(employment_code_array)):\n",
    "    # Within that, loop through the whole dataset\n",
    "    for j in range(len(dataset)):\n",
    "        # If the unique code matches that row's Employment_Code_0 value\n",
    "        if dataset.loc[j, 'Employment_Code_0'] == employment_code_array[i]:\n",
    "            # And if it ends in '0000', then it's a first level of employment category (first level 'summary') \n",
    "            if dataset.loc[j, 'Employment_Code_1'] == '0000':\n",
    "                # Map the BLS key of that 1st level summary with its corresponding name\n",
    "                temp_key = f\"{dataset.loc[j, 'Employment_Code_0']}-0000\"\n",
    "                employment_level_1_arr.append({temp_key: dataset.loc[j, 'Employment_Title']})\n",
    "            # If the row doesn't meet our '0000' condition\n",
    "            # But it ends with '000' then it's the 2nd level summary\n",
    "            # There are additional levels for some 2nd level summaries but the 2nd level seems like a sufficient place to end\n",
    "            elif str(dataset.loc[j, 'Employment_Code_1']).endswith(\"000\"):\n",
    "                # Create a temp key that combines the current 1st level 'temp_key' with the 2nd level's BLS key\n",
    "                new_temp_key = f\"{dataset.loc[j, 'Employment_Code_0']}-{dataset.loc[j, 'Employment_Code_1']}\"\n",
    "                employment_level_2_arr.append({f\"{temp_key}+{new_temp_key}\": dataset.loc[j, 'Employment_Title']})\n",
    "            else: \n",
    "                # Else this is an employment title (third and 'last' level)\n",
    "                # Map the current 'new_temp_key' with it so we can perform our joins later.\n",
    "                employment_title_arr.append({new_temp_key: dataset.loc[j, 'Employment_Title']})\n",
    "\n",
    "# We'll get create our objects within the arrays we've declared earlier\n",
    "# These objects will result in key-value pairs\n",
    "# Code idea source: https://bit.ly/3rooILz by 'Nayanexx.py'\n",
    "employment_level_1_arr = [{\n",
    "    k: [d.get(k) for d in employment_level_1_arr if k in d]\n",
    "    for k in set().union(*employment_level_1_arr)\n",
    "  }]\n",
    "\n",
    "employment_level_2_arr = [{\n",
    "    k: [d.get(k) for d in employment_level_2_arr if k in d]\n",
    "    for k in set().union(*employment_level_2_arr)\n",
    "  }]\n",
    "\n",
    "employment_title_arr = [{\n",
    "    k: [d.get(k) for d in employment_title_arr if k in d]\n",
    "    for k in set().union(*employment_title_arr)\n",
    "  }]"
   ]
  },
  {
   "cell_type": "code",
   "execution_count": 9,
   "metadata": {},
   "outputs": [
    {
     "output_type": "execute_result",
     "data": {
      "text/plain": [
       "[{'47-0000': ['Construction and extraction occupations'],\n",
       "  '17-0000': ['Architecture and engineering occupations'],\n",
       "  '31-0000': ['Healthcare support occupations'],\n",
       "  '27-0000': ['Arts, design, entertainment, sports, and media occupations'],\n",
       "  '11-0000': ['Management occupations'],\n",
       "  '43-0000': ['Office and administrative support occupations'],\n",
       "  '33-0000': ['Protective service occupations'],\n",
       "  '21-0000': ['Community and social service occupations'],\n",
       "  '25-0000': ['Educational instruction and library occupations'],\n",
       "  '13-0000': ['Business and financial operations occupations'],\n",
       "  '23-0000': ['Legal occupations'],\n",
       "  '41-0000': ['Sales and related occupations'],\n",
       "  '19-0000': ['Life, physical, and social science occupations'],\n",
       "  '53-0000': ['Transportation and material moving occupations'],\n",
       "  '15-0000': ['Computer and mathematical occupations'],\n",
       "  '37-0000': ['Building and grounds cleaning and maintenance occupations'],\n",
       "  '35-0000': ['Food preparation and serving related occupations'],\n",
       "  '39-0000': ['Personal care and service occupations'],\n",
       "  '51-0000': ['Production occupations'],\n",
       "  '29-0000': ['Healthcare practitioners and technical occupations'],\n",
       "  '45-0000': ['Farming, fishing, and forestry occupations'],\n",
       "  '49-0000': ['Installation, maintenance, and repair occupations']}]"
      ]
     },
     "metadata": {},
     "execution_count": 9
    }
   ],
   "source": [
    "employment_level_1_arr"
   ]
  },
  {
   "cell_type": "code",
   "execution_count": 10,
   "metadata": {},
   "outputs": [
    {
     "output_type": "execute_result",
     "data": {
      "text/plain": [
       "[{'37-0000+37-3000': ['Grounds maintenance workers'],\n",
       "  '53-0000+53-5000': ['Water transportation workers'],\n",
       "  '25-0000+25-3000': ['Other teachers and instructors'],\n",
       "  '25-0000+25-4000': ['Librarians, curators, and archivists'],\n",
       "  '49-0000+49-2000': ['Electrical and electronic equipment mechanics, installers, and repairers'],\n",
       "  '47-0000+47-4000': ['Other construction and related workers'],\n",
       "  '23-0000+23-2000': ['Legal support workers'],\n",
       "  '13-0000+13-2000': ['Financial specialists'],\n",
       "  '47-0000+47-5000': ['Extraction workers'],\n",
       "  '51-0000+51-9000': ['Other production occupations'],\n",
       "  '51-0000+51-4000': ['Metal workers and plastic workers'],\n",
       "  '51-0000+51-8000': ['Plant and system operators'],\n",
       "  '51-0000+51-3000': ['Food processing workers'],\n",
       "  '31-0000+31-2000': ['Occupational therapy and physical therapist assistants and aides'],\n",
       "  '33-0000+33-2000': ['Firefighting and prevention workers'],\n",
       "  '39-0000+39-6000': ['Baggage porters, bellhops, and concierges'],\n",
       "  '35-0000+35-2000': ['Cooks and food preparation workers'],\n",
       "  '11-0000+11-2000': ['Advertising, marketing, promotions, public relations, and sales managers'],\n",
       "  '17-0000+17-3000': ['Drafters, engineering technicians, and mapping technicians'],\n",
       "  '45-0000+45-4000': ['Forest, conservation, and logging workers'],\n",
       "  '11-0000+11-3000': ['Operations specialties managers'],\n",
       "  '53-0000+53-4000': ['Rail transportation workers'],\n",
       "  '47-0000+47-2000': ['Construction trades workers'],\n",
       "  '11-0000+11-1000': ['Top executives'],\n",
       "  '53-0000+53-1000': ['Supervisors of transportation and material moving workers'],\n",
       "  '43-0000+43-5000': ['Material recording, scheduling, dispatching, and distributing workers'],\n",
       "  '51-0000+51-6000': ['Textile, apparel, and furnishings workers'],\n",
       "  '39-0000+39-2000': ['Animal care and service workers'],\n",
       "  '49-0000+49-3000': ['Vehicle and mobile equipment mechanics, installers, and repairers'],\n",
       "  '21-0000+21-1000': ['Counselors, social workers, and other community and social service specialists'],\n",
       "  '41-0000+41-2000': ['Retail sales workers'],\n",
       "  '53-0000+53-6000': ['Other transportation workers'],\n",
       "  '19-0000+19-3000': ['Social scientists and related workers'],\n",
       "  '41-0000+41-1000': ['Supervisors of sales workers'],\n",
       "  '39-0000+39-7000': ['Tour and travel guides'],\n",
       "  '41-0000+41-9000': ['Other sales and related workers'],\n",
       "  '41-0000+41-4000': ['Sales representatives, wholesale and manufacturing'],\n",
       "  '15-0000+15-2000': ['Mathematical science occupations'],\n",
       "  '39-0000+39-5000': ['Personal appearance workers'],\n",
       "  '17-0000+17-1000': ['Architects, surveyors, and cartographers'],\n",
       "  '43-0000+43-9000': ['Other office and administrative support workers'],\n",
       "  '43-0000+43-4000': ['Information and record clerks'],\n",
       "  '47-0000+47-3000': ['Helpers, construction trades'],\n",
       "  '29-0000+29-9000': ['Other healthcare practitioners and technical occupations'],\n",
       "  '25-0000+25-2000': ['Preschool, elementary, middle, secondary, and special education teachers'],\n",
       "  '49-0000+49-1000': ['Supervisors of installation, maintenance, and repair workers'],\n",
       "  '25-0000+25-1000': ['Postsecondary teachers'],\n",
       "  '13-0000+13-1000': ['Business operations specialists'],\n",
       "  '33-0000+33-1000': ['Supervisors of protective service workers'],\n",
       "  '43-0000+43-6000': ['Secretaries and administrative assistants'],\n",
       "  '51-0000+51-7000': ['Woodworkers'],\n",
       "  '27-0000+27-4000': ['Media and communication equipment workers'],\n",
       "  '53-0000+53-2000': ['Air transportation workers'],\n",
       "  '29-0000+29-1000': ['Healthcare diagnosing or treating practitioners'],\n",
       "  '27-0000+27-2000': ['Entertainers and performers, sports and related workers'],\n",
       "  '31-0000+31-9000': ['Other healthcare support occupations'],\n",
       "  '27-0000+27-3000': ['Media and communication workers'],\n",
       "  '35-0000+35-3000': ['Food and beverage serving workers'],\n",
       "  '19-0000+19-1000': ['Life scientists'],\n",
       "  '33-0000+33-9000': ['Other protective service workers'],\n",
       "  '19-0000+19-2000': ['Physical scientists'],\n",
       "  '17-0000+17-2000': ['Engineers'],\n",
       "  '25-0000+25-9000': ['Other educational instruction and library occupations'],\n",
       "  '43-0000+43-2000': ['Communications equipment operators'],\n",
       "  '19-0000+19-5000': ['Occupational health and safety specialists and technicians'],\n",
       "  '39-0000+39-3000': ['Entertainment attendants and related workers'],\n",
       "  '27-0000+27-1000': ['Art and design workers'],\n",
       "  '45-0000+45-3000': ['Fishing and hunting workers'],\n",
       "  '33-0000+33-3000': ['Law enforcement workers'],\n",
       "  '35-0000+35-9000': ['Other food preparation and serving related workers'],\n",
       "  '51-0000+51-1000': ['Supervisors of production workers'],\n",
       "  '35-0000+35-1000': ['Supervisors of food preparation and serving workers'],\n",
       "  '23-0000+23-1000': ['Lawyers, judges, and related workers'],\n",
       "  '45-0000+45-1000': ['Supervisors of farming, fishing, and forestry workers'],\n",
       "  '51-0000+51-2000': ['Assemblers and fabricators'],\n",
       "  '19-0000+19-4000': ['Life, physical, and social science technicians'],\n",
       "  '37-0000+37-1000': ['Supervisors of building and grounds cleaning and maintenance workers'],\n",
       "  '41-0000+41-3000': ['Sales representatives, services'],\n",
       "  '45-0000+45-2000': ['Agricultural workers'],\n",
       "  '47-0000+47-1000': ['Supervisors of construction and extraction workers'],\n",
       "  '39-0000+39-1000': ['Supervisors of personal care and service workers'],\n",
       "  '49-0000+49-9000': ['Other installation, maintenance, and repair occupations'],\n",
       "  '53-0000+53-3000': ['Motor vehicle operators'],\n",
       "  '11-0000+11-9000': ['Other management occupations'],\n",
       "  '21-0000+21-2000': ['Religious workers'],\n",
       "  '43-0000+43-3000': ['Financial clerks'],\n",
       "  '53-0000+53-7000': ['Material moving workers'],\n",
       "  '43-0000+43-1000': ['Supervisors of office and administrative support workers'],\n",
       "  '29-0000+29-2000': ['Health technologists and technicians'],\n",
       "  '37-0000+37-2000': ['Building cleaning and pest control workers']}]"
      ]
     },
     "metadata": {},
     "execution_count": 10
    }
   ],
   "source": [
    "employment_level_2_arr"
   ]
  },
  {
   "cell_type": "code",
   "execution_count": 11,
   "metadata": {},
   "outputs": [],
   "source": [
    "# employment_title_arr"
   ]
  },
  {
   "cell_type": "code",
   "execution_count": 12,
   "metadata": {},
   "outputs": [
    {
     "output_type": "execute_result",
     "data": {
      "text/plain": [
       "  Secondary_Level_Key                                   Employment_Title\n",
       "0             49-1000  [First-line supervisors of mechanics, installe...\n",
       "1             25-9000  [Farm and home management educators, Instructi...\n",
       "2             21-1000  [Counselors, Educational, guidance, and career...\n",
       "3             53-5000  [Sailors and marine oilers, Ship and boat capt...\n",
       "4             45-2000  [Agricultural inspectors, Animal breeders, Gra...\n",
       "5             19-4000  [Agricultural and food science technicians, Bi...\n",
       "6             29-9000  [Athletic trainers, Genetic counselors, Health...\n",
       "7             27-3000  [Broadcast announcers and radio disc jockeys, ...\n",
       "8             13-2000  [Accountants and auditors, Property appraisers...\n",
       "9             51-7000  [Cabinetmakers and bench carpenters, Furniture..."
      ],
      "text/html": "<div>\n<style scoped>\n    .dataframe tbody tr th:only-of-type {\n        vertical-align: middle;\n    }\n\n    .dataframe tbody tr th {\n        vertical-align: top;\n    }\n\n    .dataframe thead th {\n        text-align: right;\n    }\n</style>\n<table border=\"1\" class=\"dataframe\">\n  <thead>\n    <tr style=\"text-align: right;\">\n      <th></th>\n      <th>Secondary_Level_Key</th>\n      <th>Employment_Title</th>\n    </tr>\n  </thead>\n  <tbody>\n    <tr>\n      <th>0</th>\n      <td>49-1000</td>\n      <td>[First-line supervisors of mechanics, installe...</td>\n    </tr>\n    <tr>\n      <th>1</th>\n      <td>25-9000</td>\n      <td>[Farm and home management educators, Instructi...</td>\n    </tr>\n    <tr>\n      <th>2</th>\n      <td>21-1000</td>\n      <td>[Counselors, Educational, guidance, and career...</td>\n    </tr>\n    <tr>\n      <th>3</th>\n      <td>53-5000</td>\n      <td>[Sailors and marine oilers, Ship and boat capt...</td>\n    </tr>\n    <tr>\n      <th>4</th>\n      <td>45-2000</td>\n      <td>[Agricultural inspectors, Animal breeders, Gra...</td>\n    </tr>\n    <tr>\n      <th>5</th>\n      <td>19-4000</td>\n      <td>[Agricultural and food science technicians, Bi...</td>\n    </tr>\n    <tr>\n      <th>6</th>\n      <td>29-9000</td>\n      <td>[Athletic trainers, Genetic counselors, Health...</td>\n    </tr>\n    <tr>\n      <th>7</th>\n      <td>27-3000</td>\n      <td>[Broadcast announcers and radio disc jockeys, ...</td>\n    </tr>\n    <tr>\n      <th>8</th>\n      <td>13-2000</td>\n      <td>[Accountants and auditors, Property appraisers...</td>\n    </tr>\n    <tr>\n      <th>9</th>\n      <td>51-7000</td>\n      <td>[Cabinetmakers and bench carpenters, Furniture...</td>\n    </tr>\n  </tbody>\n</table>\n</div>"
     },
     "metadata": {},
     "execution_count": 12
    }
   ],
   "source": [
    "# Let's push these into pandas df\n",
    "# Function to return keys\n",
    "def getList(dict): \n",
    "    list = [] \n",
    "    for key in dict.keys(): \n",
    "        list.append(key) \n",
    "        \n",
    "    return list\n",
    "\n",
    "# Function to return df\n",
    "def return_df(arr, columns):\n",
    "    df = pd.DataFrame(columns=columns)\n",
    "    key_column = columns[0]\n",
    "    name_column = columns[1]\n",
    "    keys_array = getList(arr[0])\n",
    "    # Incrementally fill the df\n",
    "    for i, k in enumerate(keys_array):\n",
    "        df.loc[i, key_column] = k\n",
    "        if len(df.filter(like='Employment_Title').columns) == 0: #We need the array of titles here\n",
    "            df.loc[i, name_column] = arr[0].get(k)[0]\n",
    "        else:\n",
    "            df.loc[i, name_column] = arr[0].get(k)\n",
    "        \n",
    "    return df\n",
    "\n",
    "#Return dfs\n",
    "columns = ['Primary_Level_Key', 'Employment_Level_1_Title']\n",
    "employment_level_1_df = return_df(employment_level_1_arr, columns)\n",
    "columns = ['Primary_Level_Key_0', 'Employment_Level_2_Title']\n",
    "employment_level_2_df = return_df(employment_level_2_arr, columns)\n",
    "columns = ['Secondary_Level_Key', 'Employment_Title']\n",
    "employment_title_df = return_df(employment_title_arr, columns)\n",
    "employment_title_df.head(10)"
   ]
  },
  {
   "cell_type": "code",
   "execution_count": 13,
   "metadata": {},
   "outputs": [
    {
     "output_type": "stream",
     "name": "stdout",
     "text": [
      "+\n"
     ]
    },
    {
     "output_type": "execute_result",
     "data": {
      "text/plain": [
       "                             Employment_Level_2_Title Primary_Level_Key  \\\n",
       "0                         Grounds maintenance workers           37-0000   \n",
       "1                        Water transportation workers           53-0000   \n",
       "2                      Other teachers and instructors           25-0000   \n",
       "3                Librarians, curators, and archivists           25-0000   \n",
       "4   Electrical and electronic equipment mechanics,...           49-0000   \n",
       "..                                                ...               ...   \n",
       "85                                   Financial clerks           43-0000   \n",
       "86                            Material moving workers           53-0000   \n",
       "87  Supervisors of office and administrative suppo...           43-0000   \n",
       "88               Health technologists and technicians           29-0000   \n",
       "89         Building cleaning and pest control workers           37-0000   \n",
       "\n",
       "   Secondary_Level_Key  \n",
       "0              37-3000  \n",
       "1              53-5000  \n",
       "2              25-3000  \n",
       "3              25-4000  \n",
       "4              49-2000  \n",
       "..                 ...  \n",
       "85             43-3000  \n",
       "86             53-7000  \n",
       "87             43-1000  \n",
       "88             29-2000  \n",
       "89             37-2000  \n",
       "\n",
       "[90 rows x 3 columns]"
      ],
      "text/html": "<div>\n<style scoped>\n    .dataframe tbody tr th:only-of-type {\n        vertical-align: middle;\n    }\n\n    .dataframe tbody tr th {\n        vertical-align: top;\n    }\n\n    .dataframe thead th {\n        text-align: right;\n    }\n</style>\n<table border=\"1\" class=\"dataframe\">\n  <thead>\n    <tr style=\"text-align: right;\">\n      <th></th>\n      <th>Employment_Level_2_Title</th>\n      <th>Primary_Level_Key</th>\n      <th>Secondary_Level_Key</th>\n    </tr>\n  </thead>\n  <tbody>\n    <tr>\n      <th>0</th>\n      <td>Grounds maintenance workers</td>\n      <td>37-0000</td>\n      <td>37-3000</td>\n    </tr>\n    <tr>\n      <th>1</th>\n      <td>Water transportation workers</td>\n      <td>53-0000</td>\n      <td>53-5000</td>\n    </tr>\n    <tr>\n      <th>2</th>\n      <td>Other teachers and instructors</td>\n      <td>25-0000</td>\n      <td>25-3000</td>\n    </tr>\n    <tr>\n      <th>3</th>\n      <td>Librarians, curators, and archivists</td>\n      <td>25-0000</td>\n      <td>25-4000</td>\n    </tr>\n    <tr>\n      <th>4</th>\n      <td>Electrical and electronic equipment mechanics,...</td>\n      <td>49-0000</td>\n      <td>49-2000</td>\n    </tr>\n    <tr>\n      <th>...</th>\n      <td>...</td>\n      <td>...</td>\n      <td>...</td>\n    </tr>\n    <tr>\n      <th>85</th>\n      <td>Financial clerks</td>\n      <td>43-0000</td>\n      <td>43-3000</td>\n    </tr>\n    <tr>\n      <th>86</th>\n      <td>Material moving workers</td>\n      <td>53-0000</td>\n      <td>53-7000</td>\n    </tr>\n    <tr>\n      <th>87</th>\n      <td>Supervisors of office and administrative suppo...</td>\n      <td>43-0000</td>\n      <td>43-1000</td>\n    </tr>\n    <tr>\n      <th>88</th>\n      <td>Health technologists and technicians</td>\n      <td>29-0000</td>\n      <td>29-2000</td>\n    </tr>\n    <tr>\n      <th>89</th>\n      <td>Building cleaning and pest control workers</td>\n      <td>37-0000</td>\n      <td>37-2000</td>\n    </tr>\n  </tbody>\n</table>\n<p>90 rows × 3 columns</p>\n</div>"
     },
     "metadata": {},
     "execution_count": 13
    }
   ],
   "source": [
    "# Split Employment_Level_2 column\n",
    "employment_level_2_df = split_columns(employment_level_2_df, \"Primary_Level_Key_0\", \"+\", \"Primary_Level_Key\", \"Secondary_Level_Key\")\n",
    "employment_level_2_df "
   ]
  },
  {
   "cell_type": "code",
   "execution_count": 14,
   "metadata": {},
   "outputs": [
    {
     "output_type": "execute_result",
     "data": {
      "text/plain": [
       "    Secondary_Level_Key                                   Employment_Title\n",
       "0               49-1000  First-line supervisors of mechanics, installer...\n",
       "1               25-9000                 Farm and home management educators\n",
       "2               25-9000                         Instructional coordinators\n",
       "3               25-9000                                Teaching assistants\n",
       "4               25-9000                 Teaching assistants, postsecondary\n",
       "..                  ...                                                ...\n",
       "930             25-3000                           Self-enrichment teachers\n",
       "931             25-3000                    Substitute teachers, short-term\n",
       "932             25-3000     Tutors and teachers and instructors, all other\n",
       "933             41-1000     First-line supervisors of retail sales workers\n",
       "934             41-1000  First-line supervisors of non-retail sales wor...\n",
       "\n",
       "[935 rows x 2 columns]"
      ],
      "text/html": "<div>\n<style scoped>\n    .dataframe tbody tr th:only-of-type {\n        vertical-align: middle;\n    }\n\n    .dataframe tbody tr th {\n        vertical-align: top;\n    }\n\n    .dataframe thead th {\n        text-align: right;\n    }\n</style>\n<table border=\"1\" class=\"dataframe\">\n  <thead>\n    <tr style=\"text-align: right;\">\n      <th></th>\n      <th>Secondary_Level_Key</th>\n      <th>Employment_Title</th>\n    </tr>\n  </thead>\n  <tbody>\n    <tr>\n      <th>0</th>\n      <td>49-1000</td>\n      <td>First-line supervisors of mechanics, installer...</td>\n    </tr>\n    <tr>\n      <th>1</th>\n      <td>25-9000</td>\n      <td>Farm and home management educators</td>\n    </tr>\n    <tr>\n      <th>2</th>\n      <td>25-9000</td>\n      <td>Instructional coordinators</td>\n    </tr>\n    <tr>\n      <th>3</th>\n      <td>25-9000</td>\n      <td>Teaching assistants</td>\n    </tr>\n    <tr>\n      <th>4</th>\n      <td>25-9000</td>\n      <td>Teaching assistants, postsecondary</td>\n    </tr>\n    <tr>\n      <th>...</th>\n      <td>...</td>\n      <td>...</td>\n    </tr>\n    <tr>\n      <th>930</th>\n      <td>25-3000</td>\n      <td>Self-enrichment teachers</td>\n    </tr>\n    <tr>\n      <th>931</th>\n      <td>25-3000</td>\n      <td>Substitute teachers, short-term</td>\n    </tr>\n    <tr>\n      <th>932</th>\n      <td>25-3000</td>\n      <td>Tutors and teachers and instructors, all other</td>\n    </tr>\n    <tr>\n      <th>933</th>\n      <td>41-1000</td>\n      <td>First-line supervisors of retail sales workers</td>\n    </tr>\n    <tr>\n      <th>934</th>\n      <td>41-1000</td>\n      <td>First-line supervisors of non-retail sales wor...</td>\n    </tr>\n  </tbody>\n</table>\n<p>935 rows × 2 columns</p>\n</div>"
     },
     "metadata": {},
     "execution_count": 14
    }
   ],
   "source": [
    "# Will we expand or 'explode' our arrays in 'Employment_Title' in the Employment_Title df with their corresponding temp_keys we set\n",
    "employment_title_df = employment_title_df.explode(\"Employment_Title\")\n",
    "employment_title_df = employment_title_df.reset_index(drop=True)\n",
    "employment_title_df"
   ]
  },
  {
   "cell_type": "code",
   "execution_count": 15,
   "metadata": {},
   "outputs": [
    {
     "output_type": "execute_result",
     "data": {
      "text/plain": [
       "       Primary_Level_Key Employment_Level_1_Title Employment_Level_2_Title  \\\n",
       "count                937                      937                      937   \n",
       "unique                22                       22                       90   \n",
       "top              51-0000   Production occupations   Postsecondary teachers   \n",
       "freq                 131                      131                       47   \n",
       "\n",
       "       Secondary_Level_Key        Employment_Title Employment_Code  \\\n",
       "count                  937                     937             937   \n",
       "unique                  90                     934             937   \n",
       "top                25-1000  Tour and travel guides         25-1020   \n",
       "freq                    47                       2               1   \n",
       "\n",
       "       Employment_Type Employment_Code_0 Employment_Code_1  \n",
       "count              937               937               937  \n",
       "unique               2                22               428  \n",
       "top          Line item                51              2011  \n",
       "freq               790               131                21  "
      ],
      "text/html": "<div>\n<style scoped>\n    .dataframe tbody tr th:only-of-type {\n        vertical-align: middle;\n    }\n\n    .dataframe tbody tr th {\n        vertical-align: top;\n    }\n\n    .dataframe thead th {\n        text-align: right;\n    }\n</style>\n<table border=\"1\" class=\"dataframe\">\n  <thead>\n    <tr style=\"text-align: right;\">\n      <th></th>\n      <th>Primary_Level_Key</th>\n      <th>Employment_Level_1_Title</th>\n      <th>Employment_Level_2_Title</th>\n      <th>Secondary_Level_Key</th>\n      <th>Employment_Title</th>\n      <th>Employment_Code</th>\n      <th>Employment_Type</th>\n      <th>Employment_Code_0</th>\n      <th>Employment_Code_1</th>\n    </tr>\n  </thead>\n  <tbody>\n    <tr>\n      <th>count</th>\n      <td>937</td>\n      <td>937</td>\n      <td>937</td>\n      <td>937</td>\n      <td>937</td>\n      <td>937</td>\n      <td>937</td>\n      <td>937</td>\n      <td>937</td>\n    </tr>\n    <tr>\n      <th>unique</th>\n      <td>22</td>\n      <td>22</td>\n      <td>90</td>\n      <td>90</td>\n      <td>934</td>\n      <td>937</td>\n      <td>2</td>\n      <td>22</td>\n      <td>428</td>\n    </tr>\n    <tr>\n      <th>top</th>\n      <td>51-0000</td>\n      <td>Production occupations</td>\n      <td>Postsecondary teachers</td>\n      <td>25-1000</td>\n      <td>Tour and travel guides</td>\n      <td>25-1020</td>\n      <td>Line item</td>\n      <td>51</td>\n      <td>2011</td>\n    </tr>\n    <tr>\n      <th>freq</th>\n      <td>131</td>\n      <td>131</td>\n      <td>47</td>\n      <td>47</td>\n      <td>2</td>\n      <td>1</td>\n      <td>790</td>\n      <td>131</td>\n      <td>21</td>\n    </tr>\n  </tbody>\n</table>\n</div>"
     },
     "metadata": {},
     "execution_count": 15
    }
   ],
   "source": [
    "# Now let's join our dfs by key\n",
    "from functools import reduce\n",
    "\n",
    "final_output_df = reduce(lambda left, right: pd.merge(left, right, how='outer', on=['Primary_Level_Key']), [employment_level_1_df, employment_level_2_df])\n",
    "final_output_df = reduce(lambda left, right: pd.merge(left, right, how='outer', on=['Secondary_Level_Key']), [final_output_df, employment_title_df])\n",
    "\n",
    "# Also merge with original keys from BLS file - note the join on 'left' to exclude second_level designations since that info is captured\n",
    "final_output_df = reduce(lambda left, right: pd.merge(left, right, how='left', on=['Employment_Title']), [final_output_df, dataset])\n",
    "final_output_df = final_output_df.drop_duplicates()\n",
    "\n",
    "final_output_df.describe()"
   ]
  },
  {
   "cell_type": "code",
   "execution_count": 16,
   "metadata": {},
   "outputs": [
    {
     "output_type": "execute_result",
     "data": {
      "text/plain": [
       "  Primary_Level_Key                 Employment_Level_1_Title  \\\n",
       "0           47-0000  Construction and extraction occupations   \n",
       "1           47-0000  Construction and extraction occupations   \n",
       "2           47-0000  Construction and extraction occupations   \n",
       "3           47-0000  Construction and extraction occupations   \n",
       "4           47-0000  Construction and extraction occupations   \n",
       "5           47-0000  Construction and extraction occupations   \n",
       "6           47-0000  Construction and extraction occupations   \n",
       "7           47-0000  Construction and extraction occupations   \n",
       "8           47-0000  Construction and extraction occupations   \n",
       "9           47-0000  Construction and extraction occupations   \n",
       "\n",
       "                 Employment_Level_2_Title Secondary_Level_Key  \\\n",
       "0  Other construction and related workers             47-4000   \n",
       "1  Other construction and related workers             47-4000   \n",
       "2  Other construction and related workers             47-4000   \n",
       "3  Other construction and related workers             47-4000   \n",
       "4  Other construction and related workers             47-4000   \n",
       "5  Other construction and related workers             47-4000   \n",
       "6  Other construction and related workers             47-4000   \n",
       "7  Other construction and related workers             47-4000   \n",
       "8                      Extraction workers             47-5000   \n",
       "9                      Extraction workers             47-5000   \n",
       "\n",
       "                                    Employment_Title Employment_Code  \\\n",
       "0               Construction and building inspectors         47-4011   \n",
       "1    Elevator and escalator installers and repairers         47-4021   \n",
       "2                                     Fence erectors         47-4031   \n",
       "3                Hazardous materials removal workers         47-4041   \n",
       "4                        Highway maintenance workers         47-4051   \n",
       "5  Rail-track laying and maintenance equipment op...         47-4061   \n",
       "6      Septic tank servicers and sewer pipe cleaners         47-4071   \n",
       "7     Miscellaneous construction and related workers         47-4090   \n",
       "8  Derrick, rotary drill, and service unit operat...         47-5010   \n",
       "9                     Derrick operators, oil and gas         47-5011   \n",
       "\n",
       "  Employment_Type Employment_Code_0 Employment_Code_1  \n",
       "0       Line item                47              4011  \n",
       "1       Line item                47              4021  \n",
       "2       Line item                47              4031  \n",
       "3       Line item                47              4041  \n",
       "4       Line item                47              4051  \n",
       "5       Line item                47              4061  \n",
       "6       Line item                47              4071  \n",
       "7       Line item                47              4090  \n",
       "8         Summary                47              5010  \n",
       "9       Line item                47              5011  "
      ],
      "text/html": "<div>\n<style scoped>\n    .dataframe tbody tr th:only-of-type {\n        vertical-align: middle;\n    }\n\n    .dataframe tbody tr th {\n        vertical-align: top;\n    }\n\n    .dataframe thead th {\n        text-align: right;\n    }\n</style>\n<table border=\"1\" class=\"dataframe\">\n  <thead>\n    <tr style=\"text-align: right;\">\n      <th></th>\n      <th>Primary_Level_Key</th>\n      <th>Employment_Level_1_Title</th>\n      <th>Employment_Level_2_Title</th>\n      <th>Secondary_Level_Key</th>\n      <th>Employment_Title</th>\n      <th>Employment_Code</th>\n      <th>Employment_Type</th>\n      <th>Employment_Code_0</th>\n      <th>Employment_Code_1</th>\n    </tr>\n  </thead>\n  <tbody>\n    <tr>\n      <th>0</th>\n      <td>47-0000</td>\n      <td>Construction and extraction occupations</td>\n      <td>Other construction and related workers</td>\n      <td>47-4000</td>\n      <td>Construction and building inspectors</td>\n      <td>47-4011</td>\n      <td>Line item</td>\n      <td>47</td>\n      <td>4011</td>\n    </tr>\n    <tr>\n      <th>1</th>\n      <td>47-0000</td>\n      <td>Construction and extraction occupations</td>\n      <td>Other construction and related workers</td>\n      <td>47-4000</td>\n      <td>Elevator and escalator installers and repairers</td>\n      <td>47-4021</td>\n      <td>Line item</td>\n      <td>47</td>\n      <td>4021</td>\n    </tr>\n    <tr>\n      <th>2</th>\n      <td>47-0000</td>\n      <td>Construction and extraction occupations</td>\n      <td>Other construction and related workers</td>\n      <td>47-4000</td>\n      <td>Fence erectors</td>\n      <td>47-4031</td>\n      <td>Line item</td>\n      <td>47</td>\n      <td>4031</td>\n    </tr>\n    <tr>\n      <th>3</th>\n      <td>47-0000</td>\n      <td>Construction and extraction occupations</td>\n      <td>Other construction and related workers</td>\n      <td>47-4000</td>\n      <td>Hazardous materials removal workers</td>\n      <td>47-4041</td>\n      <td>Line item</td>\n      <td>47</td>\n      <td>4041</td>\n    </tr>\n    <tr>\n      <th>4</th>\n      <td>47-0000</td>\n      <td>Construction and extraction occupations</td>\n      <td>Other construction and related workers</td>\n      <td>47-4000</td>\n      <td>Highway maintenance workers</td>\n      <td>47-4051</td>\n      <td>Line item</td>\n      <td>47</td>\n      <td>4051</td>\n    </tr>\n    <tr>\n      <th>5</th>\n      <td>47-0000</td>\n      <td>Construction and extraction occupations</td>\n      <td>Other construction and related workers</td>\n      <td>47-4000</td>\n      <td>Rail-track laying and maintenance equipment op...</td>\n      <td>47-4061</td>\n      <td>Line item</td>\n      <td>47</td>\n      <td>4061</td>\n    </tr>\n    <tr>\n      <th>6</th>\n      <td>47-0000</td>\n      <td>Construction and extraction occupations</td>\n      <td>Other construction and related workers</td>\n      <td>47-4000</td>\n      <td>Septic tank servicers and sewer pipe cleaners</td>\n      <td>47-4071</td>\n      <td>Line item</td>\n      <td>47</td>\n      <td>4071</td>\n    </tr>\n    <tr>\n      <th>7</th>\n      <td>47-0000</td>\n      <td>Construction and extraction occupations</td>\n      <td>Other construction and related workers</td>\n      <td>47-4000</td>\n      <td>Miscellaneous construction and related workers</td>\n      <td>47-4090</td>\n      <td>Line item</td>\n      <td>47</td>\n      <td>4090</td>\n    </tr>\n    <tr>\n      <th>8</th>\n      <td>47-0000</td>\n      <td>Construction and extraction occupations</td>\n      <td>Extraction workers</td>\n      <td>47-5000</td>\n      <td>Derrick, rotary drill, and service unit operat...</td>\n      <td>47-5010</td>\n      <td>Summary</td>\n      <td>47</td>\n      <td>5010</td>\n    </tr>\n    <tr>\n      <th>9</th>\n      <td>47-0000</td>\n      <td>Construction and extraction occupations</td>\n      <td>Extraction workers</td>\n      <td>47-5000</td>\n      <td>Derrick operators, oil and gas</td>\n      <td>47-5011</td>\n      <td>Line item</td>\n      <td>47</td>\n      <td>5011</td>\n    </tr>\n  </tbody>\n</table>\n</div>"
     },
     "metadata": {},
     "execution_count": 16
    }
   ],
   "source": [
    "final_output_df.head(10)"
   ]
  },
  {
   "cell_type": "code",
   "execution_count": 17,
   "metadata": {},
   "outputs": [],
   "source": [
    "file = 'Cleaned_BLS_Employment_Categories.csv'\n",
    "final_output_df.to_csv('Resources/'+file, index=False)"
   ]
  },
  {
   "cell_type": "code",
   "execution_count": null,
   "metadata": {},
   "outputs": [],
   "source": []
  }
 ]
}